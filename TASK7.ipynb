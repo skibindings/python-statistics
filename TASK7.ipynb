{
  "nbformat": 4,
  "nbformat_minor": 0,
  "metadata": {
    "colab": {
      "name": "TASK7.ipynb",
      "provenance": [],
      "collapsed_sections": []
    },
    "kernelspec": {
      "name": "python3",
      "display_name": "Python 3"
    }
  },
  "cells": [
    {
      "cell_type": "code",
      "metadata": {
        "id": "FThLpmrQXKDF"
      },
      "source": [
        "from sklearn.preprocessing import PolynomialFeatures\r\n",
        "from sklearn.linear_model import LogisticRegression\r\n",
        "\r\n",
        "import matplotlib.pyplot as plt\r\n",
        "import seaborn as sns\r\n",
        "\r\n",
        "import numpy as np \r\n",
        "import pandas as pd \r\n",
        "\r\n",
        "from scipy import stats"
      ],
      "execution_count": 2,
      "outputs": []
    },
    {
      "cell_type": "code",
      "metadata": {
        "colab": {
          "base_uri": "https://localhost:8080/"
        },
        "id": "QOSQYPHud9Rq",
        "outputId": "da79984b-4e96-4731-d2cc-b6f91da6466c"
      },
      "source": [
        "!wget https://stepic.org/media/attachments/lesson/11478/data.csv"
      ],
      "execution_count": 3,
      "outputs": [
        {
          "output_type": "stream",
          "text": [
            "--2020-12-20 18:46:49--  https://stepic.org/media/attachments/lesson/11478/data.csv\n",
            "Resolving stepic.org (stepic.org)... 13.69.75.239\n",
            "Connecting to stepic.org (stepic.org)|13.69.75.239|:443... connected.\n",
            "HTTP request sent, awaiting response... 200 OK\n",
            "Length: 5669 (5.5K) [application/octet-stream]\n",
            "Saving to: ‘data.csv’\n",
            "\n",
            "data.csv            100%[===================>]   5.54K  --.-KB/s    in 0s      \n",
            "\n",
            "2020-12-20 18:46:50 (583 MB/s) - ‘data.csv’ saved [5669/5669]\n",
            "\n"
          ],
          "name": "stdout"
        }
      ]
    },
    {
      "cell_type": "code",
      "metadata": {
        "id": "SFvUernmed-H"
      },
      "source": [
        "all_data = pd.read_csv('data.csv')"
      ],
      "execution_count": 49,
      "outputs": []
    },
    {
      "cell_type": "code",
      "metadata": {
        "id": "OtVnYZeviekG"
      },
      "source": [
        "def enroll_num(all_data):\r\n",
        "  all_data = all_data.drop(columns='gre')\r\n",
        "\r\n",
        "  test_data = all_data[all_data['admit'].notna() == False]\r\n",
        "  train_data = all_data.dropna()\r\n",
        "  train_x = train_data.drop(columns='admit')\r\n",
        "  train_y = train_data['admit'].astype(float)\r\n",
        "\r\n",
        "  poly = PolynomialFeatures(interaction_only=True)#degree = 2\r\n",
        "  train_x=poly.fit_transform(train_x)\r\n",
        "\r\n",
        "  logreg = LogisticRegression() \r\n",
        "  model = logreg.fit(train_x, train_y) \r\n",
        "\r\n",
        "  test_x = test_data.drop(columns='admit')\r\n",
        "  test_x=poly.fit_transform(test_x)\r\n",
        "  probs=logreg.predict_proba(test_x)\r\n",
        "  probs = probs[:,1]\r\n",
        "  probs = probs[probs >= 0.4]\r\n",
        "  \r\n",
        "  return probs.size"
      ],
      "execution_count": 48,
      "outputs": []
    },
    {
      "cell_type": "code",
      "metadata": {
        "colab": {
          "base_uri": "https://localhost:8080/"
        },
        "id": "jObW0LPPik1d",
        "outputId": "9df52a03-931c-4c2b-cd84-2bd3a7eefc0e"
      },
      "source": [
        "print(enroll_num(all_data))"
      ],
      "execution_count": 50,
      "outputs": [
        {
          "output_type": "stream",
          "text": [
            "56\n"
          ],
          "name": "stdout"
        }
      ]
    }
  ]
}